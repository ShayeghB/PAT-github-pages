{
  "nbformat": 4,
  "nbformat_minor": 0,
  "metadata": {
    "colab": {
      "provenance": [],
      "collapsed_sections": [
        "qbx6GqTskpGV",
        "yDntVSe9kvn2",
        "n9yCb9SonIqj",
        "2YEfE7T0nM9s",
        "nqIZr5iOnZSY",
        "wM7iH7f4nbmo",
        "1zeHGCSFneuN",
        "6hngTrvQngP1",
        "kUhbcD9Ennca"
      ]
    },
    "kernelspec": {
      "name": "python3",
      "display_name": "Python 3"
    },
    "language_info": {
      "name": "python"
    }
  },
  "cells": [
    {
      "cell_type": "markdown",
      "metadata": {
        "id": "qbx6GqTskpGV"
      },
      "source": [
        "# Requirements"
      ]
    },
    {
      "cell_type": "code",
      "source": [
        "HOME = '/content/drive/MyDrive/PAT_code_to_share'"
      ],
      "metadata": {
        "id": "DZT4BqjNQkSd"
      },
      "execution_count": null,
      "outputs": []
    },
    {
      "cell_type": "code",
      "metadata": {
        "colab": {
          "base_uri": "https://localhost:8080/"
        },
        "id": "driuEwOmE5pP",
        "outputId": "ec1e43ad-8555-4513-dd88-1e119db1a884"
      },
      "source": [
        "import warnings\n",
        "warnings.simplefilter(action='ignore', category=FutureWarning)\n",
        "from google.colab import drive\n",
        "drive.mount('/content/drive')\n",
        "\n",
        "!pip install hazm\n",
        "!pip install num2fawords"
      ],
      "execution_count": null,
      "outputs": [
        {
          "output_type": "stream",
          "name": "stdout",
          "text": [
            "Looking in indexes: https://pypi.org/simple, https://us-python.pkg.dev/colab-wheels/public/simple/\n",
            "Collecting hazm\n",
            "  Downloading hazm-0.7.0-py3-none-any.whl (316 kB)\n",
            "\u001b[K     |████████████████████████████████| 316 kB 5.2 MB/s \n",
            "\u001b[?25hCollecting libwapiti>=0.2.1\n",
            "  Downloading libwapiti-0.2.1.tar.gz (233 kB)\n",
            "\u001b[K     |████████████████████████████████| 233 kB 61.3 MB/s \n",
            "\u001b[?25hCollecting nltk==3.3\n",
            "  Downloading nltk-3.3.0.zip (1.4 MB)\n",
            "\u001b[K     |████████████████████████████████| 1.4 MB 20.1 MB/s \n",
            "\u001b[?25hRequirement already satisfied: six in /usr/local/lib/python3.8/dist-packages (from nltk==3.3->hazm) (1.15.0)\n",
            "Building wheels for collected packages: nltk, libwapiti\n",
            "  Building wheel for nltk (setup.py) ... \u001b[?25l\u001b[?25hdone\n",
            "  Created wheel for nltk: filename=nltk-3.3-py3-none-any.whl size=1394486 sha256=1351d8e1290f9de86ce676dc144ec8ed299181b7357de921e4f06a6eae066abc\n",
            "  Stored in directory: /root/.cache/pip/wheels/19/1d/3a/0a8c14c30132b4f9ffd796efbb6746f15b3d6bcfc1055a9346\n",
            "  Building wheel for libwapiti (setup.py) ... \u001b[?25l\u001b[?25hdone\n",
            "  Created wheel for libwapiti: filename=libwapiti-0.2.1-cp38-cp38-linux_x86_64.whl size=154334 sha256=d2886f4d55ac09eef41840c8dfa369221fad00c8e1ed9902f2741fca7a51eab9\n",
            "  Stored in directory: /root/.cache/pip/wheels/3c/d8/9f/59fd78b2b7d1e9ffcb68fb6de80c2e7c20b804c8cbc4d8fc23\n",
            "Successfully built nltk libwapiti\n",
            "Installing collected packages: nltk, libwapiti, hazm\n",
            "  Attempting uninstall: nltk\n",
            "    Found existing installation: nltk 3.7\n",
            "    Uninstalling nltk-3.7:\n",
            "      Successfully uninstalled nltk-3.7\n",
            "Successfully installed hazm-0.7.0 libwapiti-0.2.1 nltk-3.3\n",
            "Looking in indexes: https://pypi.org/simple, https://us-python.pkg.dev/colab-wheels/public/simple/\n",
            "Collecting num2fawords\n",
            "  Downloading num2fawords-1.1-py3-none-any.whl (9.8 kB)\n",
            "Installing collected packages: num2fawords\n",
            "Successfully installed num2fawords-1.1\n"
          ]
        }
      ]
    },
    {
      "cell_type": "code",
      "metadata": {
        "colab": {
          "base_uri": "https://localhost:8080/"
        },
        "id": "61EnsW4bGMDy",
        "outputId": "aa94ab11-31b8-4465-f339-c31e154af987"
      },
      "source": [
        "!cp -r \"$HOME/Library/\" .\n",
        "!cp -r \"$HOME/Data/urban_hierarchy.json\" .\n",
        "!unzip \"$HOME/Data/RawDataZips/mrud.zip\"\n",
        "!unzip \"$HOME/Data/RawDataZips/dehKhoda.zip\"\n",
        "!unzip \"$HOME/Data/RawDataZips/sina_post_compact_addresses.zip\"\n",
        "!unzip \"$HOME/Data/RawDataZips/sina_post_address_details.zip\""
      ],
      "execution_count": null,
      "outputs": [
        {
          "output_type": "stream",
          "name": "stdout",
          "text": [
            "Archive:  /content/drive/MyDrive/PAT_code_to_share/Data/RawDataZips/mrud.zip\n",
            "  inflating: mrud.csv                \n",
            "Archive:  /content/drive/MyDrive/PAT_code_to_share/Data/RawDataZips/dehKhoda.zip\n",
            "  inflating: dehKhoda.csv            \n",
            "Archive:  /content/drive/MyDrive/PAT_code_to_share/Data/RawDataZips/sina_post_compact_addresses.zip\n",
            "  inflating: sina_post_compact_addresses.csv  \n",
            "Archive:  /content/drive/MyDrive/PAT_code_to_share/Data/RawDataZips/sina_post_address_details.zip\n",
            "  inflating: sina_post_address_details.csv  \n"
          ]
        }
      ]
    },
    {
      "cell_type": "code",
      "metadata": {
        "id": "nZ1CpWF3GS17"
      },
      "source": [
        "import re\n",
        "import json\n",
        "import numpy as np\n",
        "import pandas as pd\n",
        "from Library.Utils import *\n",
        "from Library.PAT import PAT\n",
        "from tqdm.notebook import tqdm\n",
        "from Library.NBTree import NB3\n",
        "from Library.NaiveBayes import NBLM,PNBLM\n",
        "from Library.Preprocessor import Preprocessor\n",
        "from Library.ApartementDetailExtractor import ADE\n",
        "from Library.AccurateRestorer import AccurateRestorer"
      ],
      "execution_count": null,
      "outputs": []
    },
    {
      "cell_type": "markdown",
      "metadata": {
        "id": "yDntVSe9kvn2"
      },
      "source": [
        "# Preprocessor"
      ]
    },
    {
      "cell_type": "markdown",
      "metadata": {
        "id": "n9yCb9SonIqj"
      },
      "source": [
        "## Train"
      ]
    },
    {
      "cell_type": "code",
      "metadata": {
        "colab": {
          "base_uri": "https://localhost:8080/"
        },
        "id": "dp51hvwARNwN",
        "outputId": "e4e63bac-c161-44ab-be38-d21bff06181e"
      },
      "source": [
        "dehKhoda = pd.read_csv('dehKhoda.csv', header=None)\n",
        "dehKhoda = pd.DataFrame({'word': np.unique(dehKhoda[0])})\n",
        "dehKhoda = dehKhoda[~dehKhoda['word'].apply(lambda x: '…' in x)]\n",
        "dehKhoda = dehKhoda[dehKhoda['word'].apply(len) > 2]\n",
        "dehKhoda = dehKhoda[dehKhoda['word'].apply(lambda x: x.count(' ')) == 0]\n",
        "dehKhoda = dehKhoda[dehKhoda['word'].apply(lambda x: '-' not in x)]\n",
        "dehKhoda_short_words = pd.read_csv('./Library/ValidShortWords.csv')\n",
        "suffix = dehKhoda_short_words[dehKhoda_short_words.suffix].word.values.tolist()\n",
        "prefix = dehKhoda_short_words[dehKhoda_short_words.prefix].word.values.tolist()\n",
        "dehKhoda_short_words = dehKhoda_short_words[['word']]\n",
        "dehKhoda = dehKhoda.append(dehKhoda_short_words, ignore_index=True)\n",
        "dehKhoda = dehKhoda.drop_duplicates(subset=['word'])\n",
        "\n",
        "mrud = pd.read_csv('mrud.csv',usecols=['address','parcel'])\n",
        "mrud = mrud[~mrud.parcel.isna()]\n",
        "mrud = mrud[~mrud.address.isna()]\n",
        "mrud = mrud[~mrud.address.apply(lambda x: 'کژی' in x or '«یٍ«' in x)]\n",
        "sina_post = pd.read_csv('sina_post_compact_addresses.csv')\n",
        "sina_post = sina_post[~sina_post.address.str.isdigit()]\n",
        "sina_post.address = sina_post.address.apply(lambda x: re.sub('/[0-9]+،', '،', x))\n",
        "mrud_and_sina_post = pd.concat([mrud, sina_post])\n",
        "mrud_and_sina_post_text = ' split '.join(pd.unique(mrud_and_sina_post.address))\n",
        "\n",
        "P = Preprocessor(dehKhoda.word, prefix, suffix)\n",
        "P.train(mrud_and_sina_post_text, just_look_words=True)\n",
        "processed_addresses = P.batch_run(mrud_and_sina_post.address.values)\n",
        "processed_addresses = pd.DataFrame(processed_addresses.items(), columns=['address', 'clean'])\n",
        "processed_addresses = mrud_and_sina_post.merge(processed_addresses, on='address', how='left')"
      ],
      "execution_count": null,
      "outputs": [
        {
          "output_type": "stream",
          "text": [
            "cleaning ...\n",
            "10/10\n",
            "analysing prefix suffix ...\n",
            "10/10\n",
            "extracting short names ...\n"
          ],
          "name": "stdout"
        },
        {
          "output_type": "stream",
          "text": [
            "100%|██████████| 40/40 [00:12<00:00,  3.11it/s]\n",
            "100%|██████████| 74/74 [00:18<00:00,  3.98it/s]\n",
            "100%|██████████| 40/40 [00:12<00:00,  3.19it/s]\n"
          ],
          "name": "stderr"
        },
        {
          "output_type": "stream",
          "text": [
            "updating vocabulary ...\n",
            "=============================================\n"
          ],
          "name": "stdout"
        },
        {
          "output_type": "stream",
          "text": [
            "100%|██████████| 16/16 [18:09<00:00, 68.12s/it]\n"
          ],
          "name": "stderr"
        }
      ]
    },
    {
      "cell_type": "markdown",
      "metadata": {
        "id": "jUbGMIjLnORH"
      },
      "source": [
        "### Save"
      ]
    },
    {
      "cell_type": "code",
      "metadata": {
        "id": "zzMBiD1VnQYM"
      },
      "source": [
        "processed_addresses.to_csv(f'{HOME}/Data/processed_addresses.csv', index=False)\n",
        "P.save(f'{HOME}/Models/prep')"
      ],
      "execution_count": null,
      "outputs": []
    },
    {
      "cell_type": "markdown",
      "metadata": {
        "id": "2YEfE7T0nM9s"
      },
      "source": [
        "## Load"
      ]
    },
    {
      "cell_type": "code",
      "metadata": {
        "id": "edW5HPuZnw0f"
      },
      "source": [
        "P = Preprocessor.load(f'{HOME}/Models/prep')\n",
        "processed_addresses = pd.read_csv(f'{HOME}/Data/processed_addresses.csv')"
      ],
      "execution_count": null,
      "outputs": []
    },
    {
      "cell_type": "markdown",
      "metadata": {
        "id": "nqIZr5iOnZSY"
      },
      "source": [
        "# NB3"
      ]
    },
    {
      "cell_type": "code",
      "metadata": {
        "id": "exMRrPUjzKsI"
      },
      "source": [
        "class ParishLayerLM(NBLM) :\n",
        "  def __init__(self) :\n",
        "    super().__init__(smooth_factor=1/100000)\n",
        "\n",
        "class AvenueLayerLM(PNBLM) :\n",
        "  def __init__(self) :\n",
        "    super().__init__(smooth_factor=1/100000, idf_power=1.5)"
      ],
      "execution_count": null,
      "outputs": []
    },
    {
      "cell_type": "markdown",
      "metadata": {
        "id": "wM7iH7f4nbmo"
      },
      "source": [
        "## Train"
      ]
    },
    {
      "cell_type": "code",
      "metadata": {
        "colab": {
          "base_uri": "https://localhost:8080/"
        },
        "id": "oHyQO1ajSTUG",
        "outputId": "6997d7e7-23f7-43e0-bc02-e143f271e695"
      },
      "source": [
        "layers = ['parish','preaven_type','preaven_name','avenue_type','avenue_name']\n",
        "using_columns = layers+['parcel']\n",
        "post_details = pd.read_csv('sina_post_address_details.csv',usecols=using_columns)\n",
        "for c in layers :\n",
        "  post_details[c] = post_details[c].apply(lambda x: x.replace('/','_') if type(x)==type('') else str(x))\n",
        "  post_details[c][post_details[c] == 'nan'] = ''\n",
        "post_details['avenue'] = post_details.preaven_type.str.\\\n",
        "                     cat(post_details.preaven_name, sep=' ').str.\\\n",
        "                     cat(post_details.avenue_type, sep=' ').str.\\\n",
        "                     cat(post_details.avenue_name, sep=' ')\n",
        "post_details = post_details.drop(columns=layers[1:])\n",
        "\n",
        "df = processed_addresses[~processed_addresses.address.str.isdigit()]\n",
        "df = df.merge(post_details, how='left', on='parcel')\n",
        "\n",
        "nb3 = NB3(\"تهران\",\n",
        "          layers             = ['parish','avenue','clean'],\n",
        "          data               = df,\n",
        "          actual_labels_freq = post_details,\n",
        "          NB_class           = [ParishLayerLM, AvenueLayerLM])"
      ],
      "execution_count": null,
      "outputs": [
        {
          "output_type": "stream",
          "text": [
            "100%|██████████| 337/337 [27:46<00:00,  4.95s/it]\n"
          ],
          "name": "stderr"
        }
      ]
    },
    {
      "cell_type": "markdown",
      "metadata": {
        "id": "ak1vOZ6xndkX"
      },
      "source": [
        "### Save"
      ]
    },
    {
      "cell_type": "code",
      "metadata": {
        "id": "PI279WneoM8v"
      },
      "source": [
        "nb3.save(f'{HOME}/Models/nb3/')"
      ],
      "execution_count": null,
      "outputs": []
    },
    {
      "cell_type": "markdown",
      "metadata": {
        "id": "1zeHGCSFneuN"
      },
      "source": [
        "## Load"
      ]
    },
    {
      "cell_type": "code",
      "metadata": {
        "id": "UuXeqBIRovTi",
        "colab": {
          "base_uri": "https://localhost:8080/"
        },
        "outputId": "40370191-3909-4fce-baf6-1d77b9f2f0c2"
      },
      "source": [
        "nb3 = NB3.load(f'{HOME}/Models/nb3/',\n",
        "                  parts_count=8, NB_class=[ParishLayerLM, AvenueLayerLM])"
      ],
      "execution_count": null,
      "outputs": [
        {
          "output_type": "stream",
          "name": "stderr",
          "text": [
            "100%|██████████| 7/7 [04:31<00:00, 38.81s/it]\n"
          ]
        }
      ]
    },
    {
      "cell_type": "markdown",
      "metadata": {
        "id": "6hngTrvQngP1"
      },
      "source": [
        "# BDE & AR"
      ]
    },
    {
      "cell_type": "code",
      "metadata": {
        "id": "Noscfv8r91Yq"
      },
      "source": [
        "ade = ADE()\n",
        "urban_hierarchy = json.load(open('urban_hierarchy.json'))\n",
        "ar = AccurateRestorer(layers=['parish','avenue'],\n",
        "                      urban_hierarchy=urban_hierarchy,\n",
        "                      preprocessor=P,\n",
        "                      prob_keyword='probability',\n",
        "                      label_cond_thresholds=np.exp(-150),\n",
        "                      plateno_cond_thresholds=np.exp(-200)\n",
        "                      )"
      ],
      "execution_count": null,
      "outputs": []
    },
    {
      "cell_type": "markdown",
      "metadata": {
        "id": "kUhbcD9Ennca"
      },
      "source": [
        "# PAT"
      ]
    },
    {
      "cell_type": "code",
      "metadata": {
        "id": "QYEC6mQ1HTt6"
      },
      "source": [
        "pat = PAT(P, nb3, ade, ar, urban_hierarchy)"
      ],
      "execution_count": null,
      "outputs": []
    },
    {
      "cell_type": "code",
      "metadata": {
        "colab": {
          "base_uri": "https://localhost:8080/"
        },
        "id": "6zsKiqrvWMWA",
        "outputId": "66fa48bb-a009-4328-c217-1decdcaa6282"
      },
      "source": [
        "pat['شریعتی - ظفر - اطلسی - سیفیه شرقی - پ ۲۸']"
      ],
      "execution_count": null,
      "outputs": [
        {
          "output_type": "execute_result",
          "data": {
            "text/plain": [
              "{'PAT-understandable address': 'شریعت ظفر اطلسی سیف ی ه شرقی پلاک ۲۸',\n",
              " 'appartement info': {'plateno': 28, 'floorno': None, 'unit': None},\n",
              " 'most probable suggestion': {'probability': 0.999999277255864,\n",
              "  'avenue': '  خيابان شهید مسعود سیفیه',\n",
              "  'parish': 'داووديه'},\n",
              " 'suggestions': [{'probability': 0.999999277255864,\n",
              "   'avenue': '  خيابان شهید مسعود سیفیه',\n",
              "   'parish': 'داووديه'},\n",
              "  {'probability': 4.316337306333176e-161,\n",
              "   'avenue': '  خيابان نساء',\n",
              "   'parish': 'داووديه'},\n",
              "  {'probability': 3.2187006313263777e-226,\n",
              "   'avenue': '  خيابان شهید مسعودسیفیه غربی',\n",
              "   'parish': 'داووديه'},\n",
              "  {'probability': 1.0687756014031978e-302,\n",
              "   'avenue': '  خيابان شهید حسن آقازاده فرد(اطلسی)',\n",
              "   'parish': 'داووديه'},\n",
              "  {'probability': 7.0266e-320,\n",
              "   'avenue': '  خيابان شهید سرتیپ هوشنگ وحیددستگردی',\n",
              "   'parish': 'داووديه'}],\n",
              " 'possible postcodes': {'-1': ['1911713829'],\n",
              "  '0': ['1911713830'],\n",
              "  '1': ['1911713831', '1911713833'],\n",
              "  '2': ['1911713834', '1911713835'],\n",
              "  '3': ['1911713836', '1911713837'],\n",
              "  '4': ['1911713838', '1911713839'],\n",
              "  '5': ['1911713841', '1911713843']},\n",
              " 'comment': 'Invalid Floorno!'}"
            ]
          },
          "metadata": {},
          "execution_count": 13
        }
      ]
    },
    {
      "cell_type": "code",
      "metadata": {
        "id": "hLkEUG7m2qX4",
        "colab": {
          "base_uri": "https://localhost:8080/"
        },
        "outputId": "a3478a22-51c1-457c-8533-a6ee041392d7"
      },
      "source": [
        "pat['بزرگراه ستاری - بلوار فردوس شرقی - خیابان ابراهیمی جنوبی - نبش کوچه ۱۲ - پلاک ۱۴ - واحد ۲۴']"
      ],
      "execution_count": null,
      "outputs": [
        {
          "output_type": "execute_result",
          "data": {
            "text/plain": [
              "{'PAT-understandable address': 'بزرگ راه ستاری بلوار فردوس شرقی خیابان ابراهیمی جنوبی نبش کوچه ۱۲ پلاک ۱۴ واحد ۲۴',\n",
              " 'appartement info': {'plateno': 14, 'floorno': None, 'unit': 24},\n",
              " 'most probable suggestion': {'probability': 0.9831233767649038,\n",
              "  'avenue': '  خيابان شهید ابراهیمی پوربسایی جنوبی',\n",
              "  'parish': 'فردوس'},\n",
              " 'suggestions': [{'probability': 0.9831233767649038,\n",
              "   'avenue': '  خيابان شهید ابراهیمی پوربسایی جنوبی',\n",
              "   'parish': 'فردوس'},\n",
              "  {'probability': 0.01582352982876163,\n",
              "   'avenue': '  خيابان ورزی شمالی',\n",
              "   'parish': 'شهرک پرواز'},\n",
              "  {'probability': 7.112743861817697e-129,\n",
              "   'avenue': '  بزرگراه شهید سر لشکر ستاری',\n",
              "   'parish': 'شهرک پرواز'},\n",
              "  {'probability': 1.6418691105551065e-143,\n",
              "   'avenue': '  خيابان ورزی جنوبی',\n",
              "   'parish': 'شهرک پرواز'},\n",
              "  {'probability': 2.3364873031175043e-156,\n",
              "   'avenue': '  خيابان هجدهم شرقی',\n",
              "   'parish': 'شهرک پرواز'},\n",
              "  {'probability': 9.122241587004394e-178,\n",
              "   'avenue': '  خيابان دوم غربی',\n",
              "   'parish': 'شهرک پرواز'},\n",
              "  {'probability': 3.2493873921108876e-207,\n",
              "   'avenue': '  خيابان نوزدهم شرقی',\n",
              "   'parish': 'شهرک پرواز'},\n",
              "  {'probability': 6.465040955911553e-210,\n",
              "   'avenue': '  خيابان پروانه شمالی',\n",
              "   'parish': 'شهرک پرواز'},\n",
              "  {'probability': 3.236654421807294e-213,\n",
              "   'avenue': '  خيابان پروانه جنوبی',\n",
              "   'parish': 'شهرک پرواز'},\n",
              "  {'probability': 3.9778672464113506e-228,\n",
              "   'avenue': '  خيابان هفدهم شرقی',\n",
              "   'parish': 'شهرک پرواز'},\n",
              "  {'probability': 1.8227733206387097e-242,\n",
              "   'avenue': '  خيابان بیستم شرقی',\n",
              "   'parish': 'شهرک پرواز'},\n",
              "  {'probability': 1.913750256009507e-279,\n",
              "   'avenue': '  کوچه چهارم',\n",
              "   'parish': 'فردوس'},\n",
              "  {'probability': 7.461142690036903e-303,\n",
              "   'avenue': '  کوچه دهم',\n",
              "   'parish': 'فردوس'},\n",
              "  {'probability': 2.7308160597957046e-308,\n",
              "   'avenue': '  بلوار فردوس',\n",
              "   'parish': 'فردوس'},\n",
              "  {'probability': 1.2006583860025e-310,\n",
              "   'avenue': '  خيابان شهید ابراهیمی پوربسایی شمالی',\n",
              "   'parish': 'فردوس'},\n",
              "  {'probability': 1.019941072633e-311,\n",
              "   'avenue': '  کوچه شانزدهم',\n",
              "   'parish': 'فردوس'},\n",
              "  {'probability': 3.06230255e-315,\n",
              "   'avenue': 'بزرگراه ش سرلشکرستاری کوچه ( بن بست پنجم شرقی)',\n",
              "   'parish': 'شهرک پرواز'}],\n",
              " 'possible postcodes': {'0': ['1481934843',\n",
              "   '1481934844',\n",
              "   '1481934845',\n",
              "   '1481934846',\n",
              "   '1481934847',\n",
              "   '1481934848',\n",
              "   '1481934849',\n",
              "   '1481934851'],\n",
              "  '1': ['1481934853',\n",
              "   '1481934854',\n",
              "   '1481934855',\n",
              "   '1481934856',\n",
              "   '1481934857',\n",
              "   '1481934858',\n",
              "   '1481934859',\n",
              "   '1481934841'],\n",
              "  '2': ['1481934839', '1481934838', '1481934837', '1481934836']},\n",
              " 'comment': 'Invalid Floorno!'}"
            ]
          },
          "metadata": {},
          "execution_count": 14
        }
      ]
    }
  ]
}